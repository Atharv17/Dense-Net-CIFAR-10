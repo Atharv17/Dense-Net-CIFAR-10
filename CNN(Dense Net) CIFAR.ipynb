{
 "cells": [
  {
   "cell_type": "markdown",
   "metadata": {
    "colab_type": "text",
    "id": "kK3alCdFflQX"
   },
   "source": [
    "### Dense Net on CIFAR\" "
   ]
  },
  {
   "cell_type": "code",
   "execution_count": 2,
   "metadata": {
    "colab": {},
    "colab_type": "code",
    "executionInfo": {
     "elapsed": 3481,
     "status": "ok",
     "timestamp": 1593577938871,
     "user": {
      "displayName": "Atharv Shah (RA1811028010099)",
      "photoUrl": "",
      "userId": "16861040671887031643"
     },
     "user_tz": -330
    },
    "id": "TLVcyNYKflQi"
   },
   "outputs": [],
   "source": [
    "from tensorflow.keras import models, layers\n",
    "from tensorflow.keras.models import Model\n",
    "from tensorflow.keras.layers import BatchNormalization, Activation, Flatten\n",
    "from tensorflow.keras.optimizers import Adam\n",
    "from tensorflow.keras.preprocessing.image import ImageDataGenerator\n",
    "import matplotlib.pyplot as plt\n",
    "import numpy as np\n",
    "from tensorflow.keras.callbacks import ModelCheckpoint,ReduceLROnPlateau"
   ]
  },
  {
   "cell_type": "code",
   "execution_count": 3,
   "metadata": {
    "colab": {},
    "colab_type": "code",
    "executionInfo": {
     "elapsed": 2950,
     "status": "ok",
     "timestamp": 1593577938877,
     "user": {
      "displayName": "Atharv Shah (RA1811028010099)",
      "photoUrl": "",
      "userId": "16861040671887031643"
     },
     "user_tz": -330
    },
    "id": "Mputt7mFWZJU"
   },
   "outputs": [],
   "source": [
    "import tensorflow as tf"
   ]
  },
  {
   "cell_type": "code",
   "execution_count": 4,
   "metadata": {
    "colab": {
     "base_uri": "https://localhost:8080/",
     "height": 131
    },
    "colab_type": "code",
    "executionInfo": {
     "elapsed": 56364,
     "status": "ok",
     "timestamp": 1593577994218,
     "user": {
      "displayName": "Atharv Shah (RA1811028010099)",
      "photoUrl": "",
      "userId": "16861040671887031643"
     },
     "user_tz": -330
    },
    "id": "ZplcTI1Oz0Yj",
    "outputId": "2e585b22-b555-4d72-adb0-730271137388"
   },
   "outputs": [
    {
     "name": "stdout",
     "output_type": "stream",
     "text": [
      "Go to this URL in a browser: https://accounts.google.com/o/oauth2/auth?client_id=947318989803-6bn6qk8qdgf4n4g3pfee6491hc0brc4i.apps.googleusercontent.com&redirect_uri=urn%3aietf%3awg%3aoauth%3a2.0%3aoob&response_type=code&scope=email%20https%3a%2f%2fwww.googleapis.com%2fauth%2fdocs.test%20https%3a%2f%2fwww.googleapis.com%2fauth%2fdrive%20https%3a%2f%2fwww.googleapis.com%2fauth%2fdrive.photos.readonly%20https%3a%2f%2fwww.googleapis.com%2fauth%2fpeopleapi.readonly\n",
      "\n",
      "Enter your authorization code:\n",
      "··········\n",
      "Mounted at /content/drive\n"
     ]
    }
   ],
   "source": [
    "from google.colab import drive\n",
    "drive.mount('/content/drive')"
   ]
  },
  {
   "cell_type": "markdown",
   "metadata": {
    "colab_type": "text",
    "id": "4bfm3BzkWZGl"
   },
   "source": [
    "### DATA"
   ]
  },
  {
   "cell_type": "code",
   "execution_count": 5,
   "metadata": {
    "colab": {
     "base_uri": "https://localhost:8080/",
     "height": 74
    },
    "colab_type": "code",
    "executionInfo": {
     "elapsed": 9663,
     "status": "ok",
     "timestamp": 1593578008181,
     "user": {
      "displayName": "Atharv Shah (RA1811028010099)",
      "photoUrl": "",
      "userId": "16861040671887031643"
     },
     "user_tz": -330
    },
    "id": "3X7Rm5K-WZDo",
    "outputId": "5f256670-15f0-4a56-e4bb-bd37b8899c52"
   },
   "outputs": [
    {
     "name": "stdout",
     "output_type": "stream",
     "text": [
      "Downloading data from https://www.cs.toronto.edu/~kriz/cifar-10-python.tar.gz\n",
      "170500096/170498071 [==============================] - 6s 0us/step\n"
     ]
    }
   ],
   "source": [
    "# Load CIFAR10 Data\n",
    "(X_train, y_train), (X_test, y_test) = tf.keras.datasets.cifar10.load_data()\n",
    "img_height, img_width, channel = X_train.shape[1],X_train.shape[2],X_train.shape[3]\n",
    "\n",
    "# convert to one hot encoing \n",
    "y_train = tf.keras.utils.to_categorical(y_train, 10)\n",
    "y_test = tf.keras.utils.to_categorical(y_test, 10) "
   ]
  },
  {
   "cell_type": "code",
   "execution_count": 6,
   "metadata": {
    "colab": {},
    "colab_type": "code",
    "executionInfo": {
     "elapsed": 7405,
     "status": "ok",
     "timestamp": 1593578008183,
     "user": {
      "displayName": "Atharv Shah (RA1811028010099)",
      "photoUrl": "",
      "userId": "16861040671887031643"
     },
     "user_tz": -330
    },
    "id": "eYGbmvocHilq"
   },
   "outputs": [],
   "source": [
    "batch_size =50\n",
    "num_filter = 35\n",
    "dropout_rate = 0\n",
    "num_classes = 10\n",
    "l = 6\n",
    "compression = 1.0"
   ]
  },
  {
   "cell_type": "code",
   "execution_count": 7,
   "metadata": {
    "colab": {},
    "colab_type": "code",
    "executionInfo": {
     "elapsed": 929,
     "status": "ok",
     "timestamp": 1593578010393,
     "user": {
      "displayName": "Atharv Shah (RA1811028010099)",
      "photoUrl": "",
      "userId": "16861040671887031643"
     },
     "user_tz": -330
    },
    "id": "czFxo4ITWYxj"
   },
   "outputs": [],
   "source": [
    "# Dense Block\n",
    "def denseblock(input, num_filter = 12 , dropout_rate = 0.0):\n",
    "    global compression\n",
    "    temp = input\n",
    "    for _ in range(l): \n",
    "        BatchNorm = layers.BatchNormalization()(temp)\n",
    "        relu = layers.Activation('relu')(BatchNorm)\n",
    "        Conv2D_3_3 = layers.Conv2D(int(num_filter*compression), (3,3), use_bias=False ,padding='same')(relu)\n",
    "        if dropout_rate>0:\n",
    "            Conv2D_3_3 = layers.Dropout(dropout_rate)(Conv2D_3_3)\n",
    "        concat = layers.Concatenate(axis=-1)([temp,Conv2D_3_3])\n",
    "        \n",
    "        temp = concat\n",
    "        \n",
    "    return temp\n",
    "\n",
    "## transition Blosck\n",
    "def transition(input, num_filter=12 , dropout_rate = 0.0):\n",
    "    global compression\n",
    "    BatchNorm = layers.BatchNormalization()(input)\n",
    "    relu = layers.Activation('relu')(BatchNorm)\n",
    "    Conv2D_BottleNeck = layers.Conv2D(int(num_filter*compression), (1,1), use_bias=False ,padding='same')(relu)\n",
    "    if dropout_rate>0:\n",
    "         Conv2D_BottleNeck = layers.Dropout(dropout_rate)(Conv2D_BottleNeck)\n",
    "    avg = layers.AveragePooling2D(pool_size=(2,2))(Conv2D_BottleNeck)\n",
    "    return avg\n",
    "\n",
    "#output layer\n",
    "def output_layer(input):\n",
    "    global compression\n",
    "    BatchNorm = layers.BatchNormalization()(input)\n",
    "    relu = layers.Activation('relu')(BatchNorm)\n",
    "    AvgPooling = layers.AveragePooling2D(pool_size=(2,2))(relu)\n",
    "    \n",
    "    output = layers.Conv2D(filters=num_classes,kernel_size=(2,2),activation='softmax')(AvgPooling)\n",
    "\n",
    "    flat = layers.Flatten()(output)\n",
    "    return flat"
   ]
  },
  {
   "cell_type": "code",
   "execution_count": 8,
   "metadata": {
    "colab": {},
    "colab_type": "code",
    "executionInfo": {
     "elapsed": 11040,
     "status": "ok",
     "timestamp": 1593578021270,
     "user": {
      "displayName": "Atharv Shah (RA1811028010099)",
      "photoUrl": "",
      "userId": "16861040671887031643"
     },
     "user_tz": -330
    },
    "id": "8Ps7n1Z6WYud"
   },
   "outputs": [],
   "source": [
    "dropout_rate=0\n",
    "input = layers.Input(shape=(img_height, img_width, channel,))\n",
    "First_Conv2D = layers.Conv2D(35, (3,3), use_bias=False ,padding='same')(input)\n",
    "\n",
    "First_Block = denseblock(First_Conv2D, 35, dropout_rate)\n",
    "First_Transition = transition(First_Block, 35, dropout_rate)\n",
    "\n",
    "Second_Block = denseblock(First_Transition, 35, dropout_rate)\n",
    "Second_Transition = transition(Second_Block, 35, dropout_rate)\n",
    "\n",
    "Third_Block = denseblock(Second_Transition, 35, dropout_rate)\n",
    "Third_Transition = transition(Third_Block, 35, dropout_rate)\n",
    "\n",
    "Last_Block = denseblock(Third_Transition,  35, dropout_rate)\n",
    "output = output_layer(Last_Block)"
   ]
  },
  {
   "cell_type": "code",
   "execution_count": 9,
   "metadata": {
    "colab": {
     "base_uri": "https://localhost:8080/",
     "height": 1000
    },
    "colab_type": "code",
    "executionInfo": {
     "elapsed": 9212,
     "status": "ok",
     "timestamp": 1593578021275,
     "user": {
      "displayName": "Atharv Shah (RA1811028010099)",
      "photoUrl": "",
      "userId": "16861040671887031643"
     },
     "user_tz": -330
    },
    "id": "-l-LVDWIWYrI",
    "outputId": "04a10f38-2175-47d6-f07e-38f3ba21ebf5",
    "scrolled": false
   },
   "outputs": [
    {
     "name": "stdout",
     "output_type": "stream",
     "text": [
      "Model: \"model\"\n",
      "__________________________________________________________________________________________________\n",
      "Layer (type)                    Output Shape         Param #     Connected to                     \n",
      "==================================================================================================\n",
      "input_1 (InputLayer)            [(None, 32, 32, 3)]  0                                            \n",
      "__________________________________________________________________________________________________\n",
      "conv2d (Conv2D)                 (None, 32, 32, 35)   945         input_1[0][0]                    \n",
      "__________________________________________________________________________________________________\n",
      "batch_normalization (BatchNorma (None, 32, 32, 35)   140         conv2d[0][0]                     \n",
      "__________________________________________________________________________________________________\n",
      "activation (Activation)         (None, 32, 32, 35)   0           batch_normalization[0][0]        \n",
      "__________________________________________________________________________________________________\n",
      "conv2d_1 (Conv2D)               (None, 32, 32, 35)   11025       activation[0][0]                 \n",
      "__________________________________________________________________________________________________\n",
      "concatenate (Concatenate)       (None, 32, 32, 70)   0           conv2d[0][0]                     \n",
      "                                                                 conv2d_1[0][0]                   \n",
      "__________________________________________________________________________________________________\n",
      "batch_normalization_1 (BatchNor (None, 32, 32, 70)   280         concatenate[0][0]                \n",
      "__________________________________________________________________________________________________\n",
      "activation_1 (Activation)       (None, 32, 32, 70)   0           batch_normalization_1[0][0]      \n",
      "__________________________________________________________________________________________________\n",
      "conv2d_2 (Conv2D)               (None, 32, 32, 35)   22050       activation_1[0][0]               \n",
      "__________________________________________________________________________________________________\n",
      "concatenate_1 (Concatenate)     (None, 32, 32, 105)  0           concatenate[0][0]                \n",
      "                                                                 conv2d_2[0][0]                   \n",
      "__________________________________________________________________________________________________\n",
      "batch_normalization_2 (BatchNor (None, 32, 32, 105)  420         concatenate_1[0][0]              \n",
      "__________________________________________________________________________________________________\n",
      "activation_2 (Activation)       (None, 32, 32, 105)  0           batch_normalization_2[0][0]      \n",
      "__________________________________________________________________________________________________\n",
      "conv2d_3 (Conv2D)               (None, 32, 32, 35)   33075       activation_2[0][0]               \n",
      "__________________________________________________________________________________________________\n",
      "concatenate_2 (Concatenate)     (None, 32, 32, 140)  0           concatenate_1[0][0]              \n",
      "                                                                 conv2d_3[0][0]                   \n",
      "__________________________________________________________________________________________________\n",
      "batch_normalization_3 (BatchNor (None, 32, 32, 140)  560         concatenate_2[0][0]              \n",
      "__________________________________________________________________________________________________\n",
      "activation_3 (Activation)       (None, 32, 32, 140)  0           batch_normalization_3[0][0]      \n",
      "__________________________________________________________________________________________________\n",
      "conv2d_4 (Conv2D)               (None, 32, 32, 35)   44100       activation_3[0][0]               \n",
      "__________________________________________________________________________________________________\n",
      "concatenate_3 (Concatenate)     (None, 32, 32, 175)  0           concatenate_2[0][0]              \n",
      "                                                                 conv2d_4[0][0]                   \n",
      "__________________________________________________________________________________________________\n",
      "batch_normalization_4 (BatchNor (None, 32, 32, 175)  700         concatenate_3[0][0]              \n",
      "__________________________________________________________________________________________________\n",
      "activation_4 (Activation)       (None, 32, 32, 175)  0           batch_normalization_4[0][0]      \n",
      "__________________________________________________________________________________________________\n",
      "conv2d_5 (Conv2D)               (None, 32, 32, 35)   55125       activation_4[0][0]               \n",
      "__________________________________________________________________________________________________\n",
      "concatenate_4 (Concatenate)     (None, 32, 32, 210)  0           concatenate_3[0][0]              \n",
      "                                                                 conv2d_5[0][0]                   \n",
      "__________________________________________________________________________________________________\n",
      "batch_normalization_5 (BatchNor (None, 32, 32, 210)  840         concatenate_4[0][0]              \n",
      "__________________________________________________________________________________________________\n",
      "activation_5 (Activation)       (None, 32, 32, 210)  0           batch_normalization_5[0][0]      \n",
      "__________________________________________________________________________________________________\n",
      "conv2d_6 (Conv2D)               (None, 32, 32, 35)   66150       activation_5[0][0]               \n",
      "__________________________________________________________________________________________________\n",
      "concatenate_5 (Concatenate)     (None, 32, 32, 245)  0           concatenate_4[0][0]              \n",
      "                                                                 conv2d_6[0][0]                   \n",
      "__________________________________________________________________________________________________\n",
      "batch_normalization_6 (BatchNor (None, 32, 32, 245)  980         concatenate_5[0][0]              \n",
      "__________________________________________________________________________________________________\n",
      "activation_6 (Activation)       (None, 32, 32, 245)  0           batch_normalization_6[0][0]      \n",
      "__________________________________________________________________________________________________\n",
      "conv2d_7 (Conv2D)               (None, 32, 32, 35)   8575        activation_6[0][0]               \n",
      "__________________________________________________________________________________________________\n",
      "average_pooling2d (AveragePooli (None, 16, 16, 35)   0           conv2d_7[0][0]                   \n",
      "__________________________________________________________________________________________________\n",
      "batch_normalization_7 (BatchNor (None, 16, 16, 35)   140         average_pooling2d[0][0]          \n",
      "__________________________________________________________________________________________________\n",
      "activation_7 (Activation)       (None, 16, 16, 35)   0           batch_normalization_7[0][0]      \n",
      "__________________________________________________________________________________________________\n",
      "conv2d_8 (Conv2D)               (None, 16, 16, 35)   11025       activation_7[0][0]               \n",
      "__________________________________________________________________________________________________\n",
      "concatenate_6 (Concatenate)     (None, 16, 16, 70)   0           average_pooling2d[0][0]          \n",
      "                                                                 conv2d_8[0][0]                   \n",
      "__________________________________________________________________________________________________\n",
      "batch_normalization_8 (BatchNor (None, 16, 16, 70)   280         concatenate_6[0][0]              \n",
      "__________________________________________________________________________________________________\n",
      "activation_8 (Activation)       (None, 16, 16, 70)   0           batch_normalization_8[0][0]      \n",
      "__________________________________________________________________________________________________\n",
      "conv2d_9 (Conv2D)               (None, 16, 16, 35)   22050       activation_8[0][0]               \n",
      "__________________________________________________________________________________________________\n",
      "concatenate_7 (Concatenate)     (None, 16, 16, 105)  0           concatenate_6[0][0]              \n",
      "                                                                 conv2d_9[0][0]                   \n",
      "__________________________________________________________________________________________________\n",
      "batch_normalization_9 (BatchNor (None, 16, 16, 105)  420         concatenate_7[0][0]              \n",
      "__________________________________________________________________________________________________\n",
      "activation_9 (Activation)       (None, 16, 16, 105)  0           batch_normalization_9[0][0]      \n",
      "__________________________________________________________________________________________________\n",
      "conv2d_10 (Conv2D)              (None, 16, 16, 35)   33075       activation_9[0][0]               \n",
      "__________________________________________________________________________________________________\n",
      "concatenate_8 (Concatenate)     (None, 16, 16, 140)  0           concatenate_7[0][0]              \n",
      "                                                                 conv2d_10[0][0]                  \n",
      "__________________________________________________________________________________________________\n",
      "batch_normalization_10 (BatchNo (None, 16, 16, 140)  560         concatenate_8[0][0]              \n",
      "__________________________________________________________________________________________________\n",
      "activation_10 (Activation)      (None, 16, 16, 140)  0           batch_normalization_10[0][0]     \n",
      "__________________________________________________________________________________________________\n",
      "conv2d_11 (Conv2D)              (None, 16, 16, 35)   44100       activation_10[0][0]              \n",
      "__________________________________________________________________________________________________\n",
      "concatenate_9 (Concatenate)     (None, 16, 16, 175)  0           concatenate_8[0][0]              \n",
      "                                                                 conv2d_11[0][0]                  \n",
      "__________________________________________________________________________________________________\n",
      "batch_normalization_11 (BatchNo (None, 16, 16, 175)  700         concatenate_9[0][0]              \n",
      "__________________________________________________________________________________________________\n",
      "activation_11 (Activation)      (None, 16, 16, 175)  0           batch_normalization_11[0][0]     \n",
      "__________________________________________________________________________________________________\n",
      "conv2d_12 (Conv2D)              (None, 16, 16, 35)   55125       activation_11[0][0]              \n",
      "__________________________________________________________________________________________________\n",
      "concatenate_10 (Concatenate)    (None, 16, 16, 210)  0           concatenate_9[0][0]              \n",
      "                                                                 conv2d_12[0][0]                  \n",
      "__________________________________________________________________________________________________\n",
      "batch_normalization_12 (BatchNo (None, 16, 16, 210)  840         concatenate_10[0][0]             \n",
      "__________________________________________________________________________________________________\n",
      "activation_12 (Activation)      (None, 16, 16, 210)  0           batch_normalization_12[0][0]     \n",
      "__________________________________________________________________________________________________\n",
      "conv2d_13 (Conv2D)              (None, 16, 16, 35)   66150       activation_12[0][0]              \n",
      "__________________________________________________________________________________________________\n",
      "concatenate_11 (Concatenate)    (None, 16, 16, 245)  0           concatenate_10[0][0]             \n",
      "                                                                 conv2d_13[0][0]                  \n",
      "__________________________________________________________________________________________________\n",
      "batch_normalization_13 (BatchNo (None, 16, 16, 245)  980         concatenate_11[0][0]             \n",
      "__________________________________________________________________________________________________\n",
      "activation_13 (Activation)      (None, 16, 16, 245)  0           batch_normalization_13[0][0]     \n",
      "__________________________________________________________________________________________________\n",
      "conv2d_14 (Conv2D)              (None, 16, 16, 35)   8575        activation_13[0][0]              \n",
      "__________________________________________________________________________________________________\n",
      "average_pooling2d_1 (AveragePoo (None, 8, 8, 35)     0           conv2d_14[0][0]                  \n",
      "__________________________________________________________________________________________________\n",
      "batch_normalization_14 (BatchNo (None, 8, 8, 35)     140         average_pooling2d_1[0][0]        \n",
      "__________________________________________________________________________________________________\n",
      "activation_14 (Activation)      (None, 8, 8, 35)     0           batch_normalization_14[0][0]     \n",
      "__________________________________________________________________________________________________\n",
      "conv2d_15 (Conv2D)              (None, 8, 8, 35)     11025       activation_14[0][0]              \n",
      "__________________________________________________________________________________________________\n",
      "concatenate_12 (Concatenate)    (None, 8, 8, 70)     0           average_pooling2d_1[0][0]        \n",
      "                                                                 conv2d_15[0][0]                  \n",
      "__________________________________________________________________________________________________\n",
      "batch_normalization_15 (BatchNo (None, 8, 8, 70)     280         concatenate_12[0][0]             \n",
      "__________________________________________________________________________________________________\n",
      "activation_15 (Activation)      (None, 8, 8, 70)     0           batch_normalization_15[0][0]     \n",
      "__________________________________________________________________________________________________\n",
      "conv2d_16 (Conv2D)              (None, 8, 8, 35)     22050       activation_15[0][0]              \n",
      "__________________________________________________________________________________________________\n",
      "concatenate_13 (Concatenate)    (None, 8, 8, 105)    0           concatenate_12[0][0]             \n",
      "                                                                 conv2d_16[0][0]                  \n",
      "__________________________________________________________________________________________________\n",
      "batch_normalization_16 (BatchNo (None, 8, 8, 105)    420         concatenate_13[0][0]             \n",
      "__________________________________________________________________________________________________\n",
      "activation_16 (Activation)      (None, 8, 8, 105)    0           batch_normalization_16[0][0]     \n",
      "__________________________________________________________________________________________________\n",
      "conv2d_17 (Conv2D)              (None, 8, 8, 35)     33075       activation_16[0][0]              \n",
      "__________________________________________________________________________________________________\n",
      "concatenate_14 (Concatenate)    (None, 8, 8, 140)    0           concatenate_13[0][0]             \n",
      "                                                                 conv2d_17[0][0]                  \n",
      "__________________________________________________________________________________________________\n",
      "batch_normalization_17 (BatchNo (None, 8, 8, 140)    560         concatenate_14[0][0]             \n",
      "__________________________________________________________________________________________________\n",
      "activation_17 (Activation)      (None, 8, 8, 140)    0           batch_normalization_17[0][0]     \n",
      "__________________________________________________________________________________________________\n",
      "conv2d_18 (Conv2D)              (None, 8, 8, 35)     44100       activation_17[0][0]              \n",
      "__________________________________________________________________________________________________\n",
      "concatenate_15 (Concatenate)    (None, 8, 8, 175)    0           concatenate_14[0][0]             \n",
      "                                                                 conv2d_18[0][0]                  \n",
      "__________________________________________________________________________________________________\n",
      "batch_normalization_18 (BatchNo (None, 8, 8, 175)    700         concatenate_15[0][0]             \n",
      "__________________________________________________________________________________________________\n",
      "activation_18 (Activation)      (None, 8, 8, 175)    0           batch_normalization_18[0][0]     \n",
      "__________________________________________________________________________________________________\n",
      "conv2d_19 (Conv2D)              (None, 8, 8, 35)     55125       activation_18[0][0]              \n",
      "__________________________________________________________________________________________________\n",
      "concatenate_16 (Concatenate)    (None, 8, 8, 210)    0           concatenate_15[0][0]             \n",
      "                                                                 conv2d_19[0][0]                  \n",
      "__________________________________________________________________________________________________\n",
      "batch_normalization_19 (BatchNo (None, 8, 8, 210)    840         concatenate_16[0][0]             \n",
      "__________________________________________________________________________________________________\n",
      "activation_19 (Activation)      (None, 8, 8, 210)    0           batch_normalization_19[0][0]     \n",
      "__________________________________________________________________________________________________\n",
      "conv2d_20 (Conv2D)              (None, 8, 8, 35)     66150       activation_19[0][0]              \n",
      "__________________________________________________________________________________________________\n",
      "concatenate_17 (Concatenate)    (None, 8, 8, 245)    0           concatenate_16[0][0]             \n",
      "                                                                 conv2d_20[0][0]                  \n",
      "__________________________________________________________________________________________________\n",
      "batch_normalization_20 (BatchNo (None, 8, 8, 245)    980         concatenate_17[0][0]             \n",
      "__________________________________________________________________________________________________\n",
      "activation_20 (Activation)      (None, 8, 8, 245)    0           batch_normalization_20[0][0]     \n",
      "__________________________________________________________________________________________________\n",
      "conv2d_21 (Conv2D)              (None, 8, 8, 35)     8575        activation_20[0][0]              \n",
      "__________________________________________________________________________________________________\n",
      "average_pooling2d_2 (AveragePoo (None, 4, 4, 35)     0           conv2d_21[0][0]                  \n",
      "__________________________________________________________________________________________________\n",
      "batch_normalization_21 (BatchNo (None, 4, 4, 35)     140         average_pooling2d_2[0][0]        \n",
      "__________________________________________________________________________________________________\n",
      "activation_21 (Activation)      (None, 4, 4, 35)     0           batch_normalization_21[0][0]     \n",
      "__________________________________________________________________________________________________\n",
      "conv2d_22 (Conv2D)              (None, 4, 4, 35)     11025       activation_21[0][0]              \n",
      "__________________________________________________________________________________________________\n",
      "concatenate_18 (Concatenate)    (None, 4, 4, 70)     0           average_pooling2d_2[0][0]        \n",
      "                                                                 conv2d_22[0][0]                  \n",
      "__________________________________________________________________________________________________\n",
      "batch_normalization_22 (BatchNo (None, 4, 4, 70)     280         concatenate_18[0][0]             \n",
      "__________________________________________________________________________________________________\n",
      "activation_22 (Activation)      (None, 4, 4, 70)     0           batch_normalization_22[0][0]     \n",
      "__________________________________________________________________________________________________\n",
      "conv2d_23 (Conv2D)              (None, 4, 4, 35)     22050       activation_22[0][0]              \n",
      "__________________________________________________________________________________________________\n",
      "concatenate_19 (Concatenate)    (None, 4, 4, 105)    0           concatenate_18[0][0]             \n",
      "                                                                 conv2d_23[0][0]                  \n",
      "__________________________________________________________________________________________________\n",
      "batch_normalization_23 (BatchNo (None, 4, 4, 105)    420         concatenate_19[0][0]             \n",
      "__________________________________________________________________________________________________\n",
      "activation_23 (Activation)      (None, 4, 4, 105)    0           batch_normalization_23[0][0]     \n",
      "__________________________________________________________________________________________________\n",
      "conv2d_24 (Conv2D)              (None, 4, 4, 35)     33075       activation_23[0][0]              \n",
      "__________________________________________________________________________________________________\n",
      "concatenate_20 (Concatenate)    (None, 4, 4, 140)    0           concatenate_19[0][0]             \n",
      "                                                                 conv2d_24[0][0]                  \n",
      "__________________________________________________________________________________________________\n",
      "batch_normalization_24 (BatchNo (None, 4, 4, 140)    560         concatenate_20[0][0]             \n",
      "__________________________________________________________________________________________________\n",
      "activation_24 (Activation)      (None, 4, 4, 140)    0           batch_normalization_24[0][0]     \n",
      "__________________________________________________________________________________________________\n",
      "conv2d_25 (Conv2D)              (None, 4, 4, 35)     44100       activation_24[0][0]              \n",
      "__________________________________________________________________________________________________\n",
      "concatenate_21 (Concatenate)    (None, 4, 4, 175)    0           concatenate_20[0][0]             \n",
      "                                                                 conv2d_25[0][0]                  \n",
      "__________________________________________________________________________________________________\n",
      "batch_normalization_25 (BatchNo (None, 4, 4, 175)    700         concatenate_21[0][0]             \n",
      "__________________________________________________________________________________________________\n",
      "activation_25 (Activation)      (None, 4, 4, 175)    0           batch_normalization_25[0][0]     \n",
      "__________________________________________________________________________________________________\n",
      "conv2d_26 (Conv2D)              (None, 4, 4, 35)     55125       activation_25[0][0]              \n",
      "__________________________________________________________________________________________________\n",
      "concatenate_22 (Concatenate)    (None, 4, 4, 210)    0           concatenate_21[0][0]             \n",
      "                                                                 conv2d_26[0][0]                  \n",
      "__________________________________________________________________________________________________\n",
      "batch_normalization_26 (BatchNo (None, 4, 4, 210)    840         concatenate_22[0][0]             \n",
      "__________________________________________________________________________________________________\n",
      "activation_26 (Activation)      (None, 4, 4, 210)    0           batch_normalization_26[0][0]     \n",
      "__________________________________________________________________________________________________\n",
      "conv2d_27 (Conv2D)              (None, 4, 4, 35)     66150       activation_26[0][0]              \n",
      "__________________________________________________________________________________________________\n",
      "concatenate_23 (Concatenate)    (None, 4, 4, 245)    0           concatenate_22[0][0]             \n",
      "                                                                 conv2d_27[0][0]                  \n",
      "__________________________________________________________________________________________________\n",
      "batch_normalization_27 (BatchNo (None, 4, 4, 245)    980         concatenate_23[0][0]             \n",
      "__________________________________________________________________________________________________\n",
      "activation_27 (Activation)      (None, 4, 4, 245)    0           batch_normalization_27[0][0]     \n",
      "__________________________________________________________________________________________________\n",
      "average_pooling2d_3 (AveragePoo (None, 2, 2, 245)    0           activation_27[0][0]              \n",
      "__________________________________________________________________________________________________\n",
      "conv2d_28 (Conv2D)              (None, 1, 1, 10)     9810        average_pooling2d_3[0][0]        \n",
      "__________________________________________________________________________________________________\n",
      "flatten (Flatten)               (None, 10)           0           conv2d_28[0][0]                  \n",
      "==================================================================================================\n",
      "Total params: 978,260\n",
      "Trainable params: 970,420\n",
      "Non-trainable params: 7,840\n",
      "__________________________________________________________________________________________________\n"
     ]
    }
   ],
   "source": [
    "model = Model(inputs=[input], outputs=[output])\n",
    "model.summary()"
   ]
  },
  {
   "cell_type": "code",
   "execution_count": 10,
   "metadata": {
    "colab": {},
    "colab_type": "code",
    "executionInfo": {
     "elapsed": 1841,
     "status": "ok",
     "timestamp": 1593578027369,
     "user": {
      "displayName": "Atharv Shah (RA1811028010099)",
      "photoUrl": "",
      "userId": "16861040671887031643"
     },
     "user_tz": -330
    },
    "id": "4d5UcEqO0tqk"
   },
   "outputs": [],
   "source": [
    "def conv_pixel(train, test):\n",
    "\n",
    "\ttrain_norm = train.astype('float32')\n",
    "\ttest_norm = test.astype('float32')\n",
    "\ttrain_norm = train_norm / 255.0\n",
    "\ttest_norm = test_norm / 255.0\n",
    "\treturn train_norm, test_norm\n",
    "\n",
    "X_train,X_test = conv_pixel(X_train,X_test)"
   ]
  },
  {
   "cell_type": "markdown",
   "metadata": {
    "colab_type": "text",
    "id": "CzRuBF81WYkA"
   },
   "source": [
    "### Data Augmentation"
   ]
  },
  {
   "cell_type": "code",
   "execution_count": 11,
   "metadata": {
    "colab": {},
    "colab_type": "code",
    "executionInfo": {
     "elapsed": 1240,
     "status": "ok",
     "timestamp": 1593578028340,
     "user": {
      "displayName": "Atharv Shah (RA1811028010099)",
      "photoUrl": "",
      "userId": "16861040671887031643"
     },
     "user_tz": -330
    },
    "id": "cp_sruAhWYZw"
   },
   "outputs": [],
   "source": [
    "data_gen = ImageDataGenerator(\n",
    "    rotation_range=22,\n",
    "    width_shift_range=0.125,\n",
    "    height_shift_range=0.125,\n",
    "    horizontal_flip=True,\n",
    "    fill_mode = 'nearest',\n",
    "    zoom_range=0.01)\n",
    "data_gen.fit(X_train)"
   ]
  },
  {
   "cell_type": "code",
   "execution_count": 12,
   "metadata": {
    "colab": {
     "base_uri": "https://localhost:8080/",
     "height": 36
    },
    "colab_type": "code",
    "executionInfo": {
     "elapsed": 1220,
     "status": "ok",
     "timestamp": 1593578036147,
     "user": {
      "displayName": "Atharv Shah (RA1811028010099)",
      "photoUrl": "",
      "userId": "16861040671887031643"
     },
     "user_tz": -330
    },
    "id": "H5L3-gxCUVgS",
    "outputId": "a60d010b-f3a1-4914-e4ed-a745d7b5a823"
   },
   "outputs": [
    {
     "data": {
      "text/plain": [
       "(50000, 32, 32, 3)"
      ]
     },
     "execution_count": 12,
     "metadata": {
      "tags": []
     },
     "output_type": "execute_result"
    }
   ],
   "source": [
    "X_train.shape"
   ]
  },
  {
   "cell_type": "code",
   "execution_count": 13,
   "metadata": {
    "colab": {
     "base_uri": "https://localhost:8080/",
     "height": 268
    },
    "colab_type": "code",
    "executionInfo": {
     "elapsed": 2882,
     "status": "ok",
     "timestamp": 1593578038236,
     "user": {
      "displayName": "Atharv Shah (RA1811028010099)",
      "photoUrl": "",
      "userId": "16861040671887031643"
     },
     "user_tz": -330
    },
    "id": "zP77nlcMzb44",
    "outputId": "84bc5ee1-8cbc-4c5e-8feb-ed4f85575ddc"
   },
   "outputs": [
    {
     "data": {
      "image/png": "[encoded data removed]",
      "text/plain": [
       "<Figure size 432x288 with 9 Axes>"
      ]
     },
     "metadata": {
      "needs_background": "light",
      "tags": []
     },
     "output_type": "display_data"
    }
   ],
   "source": [
    "for X_batch, y_batch in data_gen.flow(X_train, y_train, batch_size=9):\n",
    "    for i in range(0, 9):\n",
    "        plt.subplot(330 + 1 + i)\n",
    "        plt.imshow(X_batch[i], cmap=plt.get_cmap())\n",
    "    plt.show()\n",
    "    break"
   ]
  },
  {
   "cell_type": "code",
   "execution_count": 14,
   "metadata": {
    "colab": {
     "base_uri": "https://localhost:8080/",
     "height": 36
    },
    "colab_type": "code",
    "executionInfo": {
     "elapsed": 4750,
     "status": "ok",
     "timestamp": 1593578046142,
     "user": {
      "displayName": "Atharv Shah (RA1811028010099)",
      "photoUrl": "",
      "userId": "16861040671887031643"
     },
     "user_tz": -330
    },
    "id": "dfLK5QG01AbE",
    "outputId": "dbaa9a7c-3772-40b4-f7e9-ffea2d083328"
   },
   "outputs": [
    {
     "name": "stdout",
     "output_type": "stream",
     "text": [
      "\u001b[0m\u001b[01;34mdrive\u001b[0m/  \u001b[01;34msample_data\u001b[0m/\n"
     ]
    }
   ],
   "source": [
    "ls"
   ]
  },
  {
   "cell_type": "code",
   "execution_count": 15,
   "metadata": {
    "colab": {},
    "colab_type": "code",
    "executionInfo": {
     "elapsed": 4128,
     "status": "ok",
     "timestamp": 1593578046145,
     "user": {
      "displayName": "Atharv Shah (RA1811028010099)",
      "photoUrl": "",
      "userId": "16861040671887031643"
     },
     "user_tz": -330
    },
    "id": "bVuI6qngpV0n"
   },
   "outputs": [],
   "source": [
    "model.compile(loss='categorical_crossentropy',optimizer=Adam(), metrics=['accuracy'])"
   ]
  },
  {
   "cell_type": "code",
   "execution_count": 16,
   "metadata": {
    "colab": {},
    "colab_type": "code",
    "executionInfo": {
     "elapsed": 1688,
     "status": "ok",
     "timestamp": 1593578048165,
     "user": {
      "displayName": "Atharv Shah (RA1811028010099)",
      "photoUrl": "",
      "userId": "16861040671887031643"
     },
     "user_tz": -330
    },
    "id": "D7Q_GMaJfSE8"
   },
   "outputs": [],
   "source": [
    "reduce_lr = ReduceLROnPlateau(monitor='val_loss',factor=0.1,patience= 5,\n",
    "                              min_lr=0.000001)\n",
    "filepath = \"drive/My Drive/best_model.hdf5\"\n",
    "checkpoint = ModelCheckpoint(filepath, monitor='val_loss', verbose=1, save_best_only=True, mode='max')\n",
    "\n",
    "callbacks = [checkpoint, reduce_lr]"
   ]
  },
  {
   "cell_type": "code",
   "execution_count": 17,
   "metadata": {
    "colab": {
     "base_uri": "https://localhost:8080/",
     "height": 1000
    },
    "colab_type": "code",
    "executionInfo": {
     "elapsed": 3209555,
     "status": "ok",
     "timestamp": 1593581260022,
     "user": {
      "displayName": "Atharv Shah (RA1811028010099)",
      "photoUrl": "",
      "userId": "16861040671887031643"
     },
     "user_tz": -330
    },
    "id": "hvWwW0qJoWSI",
    "outputId": "a0055265-2214-4d8f-cf65-648bdf0adc9a",
    "scrolled": false
   },
   "outputs": [
    {
     "name": "stdout",
     "output_type": "stream",
     "text": [
      "WARNING:tensorflow:From <ipython-input-17-516e8d78b8f2>:2: Model.fit_generator (from tensorflow.python.keras.engine.training) is deprecated and will be removed in a future version.\n",
      "Instructions for updating:\n",
      "Please use Model.fit, which supports generators.\n",
      "Epoch 1/50\n",
      "1000/1000 [==============================] - ETA: 0s - loss: 1.4667 - accuracy: 0.4679\n",
      "Epoch 00001: val_loss improved from -inf to 1.62575, saving model to drive/My Drive/best_model.hdf5\n",
      "1000/1000 [==============================] - 65s 65ms/step - loss: 1.4667 - accuracy: 0.4679 - val_loss: 1.6258 - val_accuracy: 0.4306 - lr: 0.0010\n",
      "Epoch 2/50\n",
      "1000/1000 [==============================] - ETA: 0s - loss: 1.0271 - accuracy: 0.6341\n",
      "Epoch 00002: val_loss did not improve from 1.62575\n",
      "1000/1000 [==============================] - 64s 64ms/step - loss: 1.0271 - accuracy: 0.6341 - val_loss: 1.1933 - val_accuracy: 0.6039 - lr: 0.0010\n",
      "Epoch 3/50\n",
      "1000/1000 [==============================] - ETA: 0s - loss: 0.8457 - accuracy: 0.7010\n",
      "Epoch 00003: val_loss did not improve from 1.62575\n",
      "1000/1000 [==============================] - 64s 64ms/step - loss: 0.8457 - accuracy: 0.7010 - val_loss: 0.8319 - val_accuracy: 0.7154 - lr: 0.0010\n",
      "Epoch 4/50\n",
      "1000/1000 [==============================] - ETA: 0s - loss: 0.7349 - accuracy: 0.7442\n",
      "Epoch 00004: val_loss did not improve from 1.62575\n",
      "1000/1000 [==============================] - 64s 64ms/step - loss: 0.7349 - accuracy: 0.7442 - val_loss: 0.6837 - val_accuracy: 0.7613 - lr: 0.0010\n",
      "Epoch 5/50\n",
      "1000/1000 [==============================] - ETA: 0s - loss: 0.6655 - accuracy: 0.7676\n",
      "Epoch 00005: val_loss did not improve from 1.62575\n",
      "1000/1000 [==============================] - 64s 64ms/step - loss: 0.6655 - accuracy: 0.7676 - val_loss: 0.7177 - val_accuracy: 0.7538 - lr: 0.0010\n",
      "Epoch 6/50\n",
      "1000/1000 [==============================] - ETA: 0s - loss: 0.6068 - accuracy: 0.7883\n",
      "Epoch 00006: val_loss did not improve from 1.62575\n",
      "1000/1000 [==============================] - 64s 64ms/step - loss: 0.6068 - accuracy: 0.7883 - val_loss: 0.9050 - val_accuracy: 0.7316 - lr: 0.0010\n",
      "Epoch 7/50\n",
      "1000/1000 [==============================] - ETA: 0s - loss: 0.5591 - accuracy: 0.8050\n",
      "Epoch 00007: val_loss did not improve from 1.62575\n",
      "1000/1000 [==============================] - 64s 64ms/step - loss: 0.5591 - accuracy: 0.8050 - val_loss: 0.6049 - val_accuracy: 0.7985 - lr: 0.0010\n",
      "Epoch 8/50\n",
      "1000/1000 [==============================] - ETA: 0s - loss: 0.5222 - accuracy: 0.8198\n",
      "Epoch 00008: val_loss did not improve from 1.62575\n",
      "1000/1000 [==============================] - 64s 64ms/step - loss: 0.5222 - accuracy: 0.8198 - val_loss: 0.6428 - val_accuracy: 0.7976 - lr: 0.0010\n",
      "Epoch 9/50\n",
      "1000/1000 [==============================] - ETA: 0s - loss: 0.4918 - accuracy: 0.8292\n",
      "Epoch 00009: val_loss did not improve from 1.62575\n",
      "1000/1000 [==============================] - 64s 64ms/step - loss: 0.4918 - accuracy: 0.8292 - val_loss: 0.5549 - val_accuracy: 0.8087 - lr: 0.0010\n",
      "Epoch 10/50\n",
      "1000/1000 [==============================] - ETA: 0s - loss: 0.4681 - accuracy: 0.8367\n",
      "Epoch 00010: val_loss did not improve from 1.62575\n",
      "1000/1000 [==============================] - 64s 64ms/step - loss: 0.4681 - accuracy: 0.8367 - val_loss: 0.5687 - val_accuracy: 0.8111 - lr: 0.0010\n",
      "Epoch 11/50\n",
      "1000/1000 [==============================] - ETA: 0s - loss: 0.4399 - accuracy: 0.8478\n",
      "Epoch 00011: val_loss did not improve from 1.62575\n",
      "1000/1000 [==============================] - 64s 64ms/step - loss: 0.4399 - accuracy: 0.8478 - val_loss: 0.5621 - val_accuracy: 0.8129 - lr: 0.0010\n",
      "Epoch 12/50\n",
      "1000/1000 [==============================] - ETA: 0s - loss: 0.4226 - accuracy: 0.8532\n",
      "Epoch 00012: val_loss did not improve from 1.62575\n",
      "1000/1000 [==============================] - 64s 64ms/step - loss: 0.4226 - accuracy: 0.8532 - val_loss: 0.5773 - val_accuracy: 0.8046 - lr: 0.0010\n",
      "Epoch 13/50\n",
      "1000/1000 [==============================] - ETA: 0s - loss: 0.4011 - accuracy: 0.8601\n",
      "Epoch 00013: val_loss did not improve from 1.62575\n",
      "1000/1000 [==============================] - 64s 64ms/step - loss: 0.4011 - accuracy: 0.8601 - val_loss: 0.4529 - val_accuracy: 0.8510 - lr: 0.0010\n",
      "Epoch 14/50\n",
      "1000/1000 [==============================] - ETA: 0s - loss: 0.3872 - accuracy: 0.8665\n",
      "Epoch 00014: val_loss did not improve from 1.62575\n",
      "1000/1000 [==============================] - 64s 64ms/step - loss: 0.3872 - accuracy: 0.8665 - val_loss: 0.4723 - val_accuracy: 0.8447 - lr: 0.0010\n",
      "Epoch 15/50\n",
      "1000/1000 [==============================] - ETA: 0s - loss: 0.3690 - accuracy: 0.8707\n",
      "Epoch 00015: val_loss did not improve from 1.62575\n",
      "1000/1000 [==============================] - 64s 64ms/step - loss: 0.3690 - accuracy: 0.8707 - val_loss: 0.4254 - val_accuracy: 0.8568 - lr: 0.0010\n",
      "Epoch 16/50\n",
      "1000/1000 [==============================] - ETA: 0s - loss: 0.3604 - accuracy: 0.8742\n",
      "Epoch 00016: val_loss did not improve from 1.62575\n",
      "1000/1000 [==============================] - 64s 64ms/step - loss: 0.3604 - accuracy: 0.8742 - val_loss: 0.4475 - val_accuracy: 0.8504 - lr: 0.0010\n",
      "Epoch 17/50\n",
      "1000/1000 [==============================] - ETA: 0s - loss: 0.3441 - accuracy: 0.8818\n",
      "Epoch 00017: val_loss did not improve from 1.62575\n",
      "1000/1000 [==============================] - 64s 64ms/step - loss: 0.3441 - accuracy: 0.8818 - val_loss: 0.6499 - val_accuracy: 0.8091 - lr: 0.0010\n",
      "Epoch 18/50\n",
      "1000/1000 [==============================] - ETA: 0s - loss: 0.3340 - accuracy: 0.8835\n",
      "Epoch 00018: val_loss did not improve from 1.62575\n",
      "1000/1000 [==============================] - 64s 64ms/step - loss: 0.3340 - accuracy: 0.8835 - val_loss: 0.4438 - val_accuracy: 0.8564 - lr: 0.0010\n",
      "Epoch 19/50\n",
      "1000/1000 [==============================] - ETA: 0s - loss: 0.3197 - accuracy: 0.8888\n",
      "Epoch 00019: val_loss did not improve from 1.62575\n",
      "1000/1000 [==============================] - 64s 64ms/step - loss: 0.3197 - accuracy: 0.8888 - val_loss: 0.5516 - val_accuracy: 0.8288 - lr: 0.0010\n",
      "Epoch 20/50\n",
      "1000/1000 [==============================] - ETA: 0s - loss: 0.3101 - accuracy: 0.8905\n",
      "Epoch 00020: val_loss did not improve from 1.62575\n",
      "1000/1000 [==============================] - 64s 64ms/step - loss: 0.3101 - accuracy: 0.8905 - val_loss: 0.5998 - val_accuracy: 0.8202 - lr: 0.0010\n",
      "Epoch 21/50\n",
      "1000/1000 [==============================] - ETA: 0s - loss: 0.2401 - accuracy: 0.9154\n",
      "Epoch 00021: val_loss did not improve from 1.62575\n",
      "1000/1000 [==============================] - 64s 64ms/step - loss: 0.2401 - accuracy: 0.9154 - val_loss: 0.3210 - val_accuracy: 0.8929 - lr: 1.0000e-04\n",
      "Epoch 22/50\n",
      "1000/1000 [==============================] - ETA: 0s - loss: 0.2170 - accuracy: 0.9245\n",
      "Epoch 00022: val_loss did not improve from 1.62575\n",
      "1000/1000 [==============================] - 64s 64ms/step - loss: 0.2170 - accuracy: 0.9245 - val_loss: 0.3114 - val_accuracy: 0.8985 - lr: 1.0000e-04\n",
      "Epoch 23/50\n",
      "1000/1000 [==============================] - ETA: 0s - loss: 0.2091 - accuracy: 0.9266\n",
      "Epoch 00023: val_loss did not improve from 1.62575\n",
      "1000/1000 [==============================] - 64s 64ms/step - loss: 0.2091 - accuracy: 0.9266 - val_loss: 0.3216 - val_accuracy: 0.8963 - lr: 1.0000e-04\n",
      "Epoch 24/50\n",
      "1000/1000 [==============================] - ETA: 0s - loss: 0.2013 - accuracy: 0.9298\n",
      "Epoch 00024: val_loss did not improve from 1.62575\n",
      "1000/1000 [==============================] - 64s 64ms/step - loss: 0.2013 - accuracy: 0.9298 - val_loss: 0.3001 - val_accuracy: 0.9019 - lr: 1.0000e-04\n",
      "Epoch 25/50\n",
      "1000/1000 [==============================] - ETA: 0s - loss: 0.1980 - accuracy: 0.9306\n",
      "Epoch 00025: val_loss did not improve from 1.62575\n",
      "1000/1000 [==============================] - 64s 64ms/step - loss: 0.1980 - accuracy: 0.9306 - val_loss: 0.3060 - val_accuracy: 0.9021 - lr: 1.0000e-04\n",
      "Epoch 26/50\n",
      "1000/1000 [==============================] - ETA: 0s - loss: 0.1916 - accuracy: 0.9349\n",
      "Epoch 00026: val_loss did not improve from 1.62575\n",
      "1000/1000 [==============================] - 64s 64ms/step - loss: 0.1916 - accuracy: 0.9349 - val_loss: 0.3103 - val_accuracy: 0.9017 - lr: 1.0000e-04\n",
      "Epoch 27/50\n",
      "1000/1000 [==============================] - ETA: 0s - loss: 0.1868 - accuracy: 0.9353\n",
      "Epoch 00027: val_loss did not improve from 1.62575\n",
      "1000/1000 [==============================] - 64s 64ms/step - loss: 0.1868 - accuracy: 0.9353 - val_loss: 0.3157 - val_accuracy: 0.8984 - lr: 1.0000e-04\n",
      "Epoch 28/50\n",
      "1000/1000 [==============================] - ETA: 0s - loss: 0.1846 - accuracy: 0.9364\n",
      "Epoch 00028: val_loss did not improve from 1.62575\n",
      "1000/1000 [==============================] - 64s 64ms/step - loss: 0.1846 - accuracy: 0.9364 - val_loss: 0.3158 - val_accuracy: 0.9008 - lr: 1.0000e-04\n",
      "Epoch 29/50\n",
      "1000/1000 [==============================] - ETA: 0s - loss: 0.1826 - accuracy: 0.9354\n",
      "Epoch 00029: val_loss did not improve from 1.62575\n",
      "1000/1000 [==============================] - 64s 64ms/step - loss: 0.1826 - accuracy: 0.9354 - val_loss: 0.3154 - val_accuracy: 0.9015 - lr: 1.0000e-04\n",
      "Epoch 30/50\n",
      "1000/1000 [==============================] - ETA: 0s - loss: 0.1751 - accuracy: 0.9381\n",
      "Epoch 00030: val_loss did not improve from 1.62575\n",
      "1000/1000 [==============================] - 64s 64ms/step - loss: 0.1751 - accuracy: 0.9381 - val_loss: 0.3073 - val_accuracy: 0.9015 - lr: 1.0000e-05\n",
      "Epoch 31/50\n",
      "1000/1000 [==============================] - ETA: 0s - loss: 0.1717 - accuracy: 0.9395\n",
      "Epoch 00031: val_loss did not improve from 1.62575\n",
      "1000/1000 [==============================] - 64s 64ms/step - loss: 0.1717 - accuracy: 0.9395 - val_loss: 0.3041 - val_accuracy: 0.9034 - lr: 1.0000e-05\n",
      "Epoch 32/50\n",
      "1000/1000 [==============================] - ETA: 0s - loss: 0.1742 - accuracy: 0.9380\n",
      "Epoch 00032: val_loss did not improve from 1.62575\n",
      "1000/1000 [==============================] - 64s 64ms/step - loss: 0.1742 - accuracy: 0.9380 - val_loss: 0.3077 - val_accuracy: 0.9036 - lr: 1.0000e-05\n",
      "Epoch 33/50\n",
      "1000/1000 [==============================] - ETA: 0s - loss: 0.1717 - accuracy: 0.9390\n",
      "Epoch 00033: val_loss did not improve from 1.62575\n",
      "1000/1000 [==============================] - 64s 64ms/step - loss: 0.1717 - accuracy: 0.9390 - val_loss: 0.3051 - val_accuracy: 0.9034 - lr: 1.0000e-05\n",
      "Epoch 34/50\n",
      "1000/1000 [==============================] - ETA: 0s - loss: 0.1737 - accuracy: 0.9398\n",
      "Epoch 00034: val_loss did not improve from 1.62575\n",
      "1000/1000 [==============================] - 64s 64ms/step - loss: 0.1737 - accuracy: 0.9398 - val_loss: 0.3061 - val_accuracy: 0.9031 - lr: 1.0000e-05\n",
      "Epoch 35/50\n",
      "1000/1000 [==============================] - ETA: 0s - loss: 0.1722 - accuracy: 0.9401\n",
      "Epoch 00035: val_loss did not improve from 1.62575\n",
      "1000/1000 [==============================] - 64s 64ms/step - loss: 0.1722 - accuracy: 0.9401 - val_loss: 0.3059 - val_accuracy: 0.9028 - lr: 1.0000e-06\n",
      "Epoch 36/50\n",
      "1000/1000 [==============================] - ETA: 0s - loss: 0.1708 - accuracy: 0.9398\n",
      "Epoch 00036: val_loss did not improve from 1.62575\n",
      "1000/1000 [==============================] - 64s 64ms/step - loss: 0.1708 - accuracy: 0.9398 - val_loss: 0.3060 - val_accuracy: 0.9034 - lr: 1.0000e-06\n",
      "Epoch 37/50\n",
      "1000/1000 [==============================] - ETA: 0s - loss: 0.1703 - accuracy: 0.9406\n",
      "Epoch 00037: val_loss did not improve from 1.62575\n",
      "1000/1000 [==============================] - 64s 64ms/step - loss: 0.1703 - accuracy: 0.9406 - val_loss: 0.3076 - val_accuracy: 0.9030 - lr: 1.0000e-06\n",
      "Epoch 38/50\n",
      "1000/1000 [==============================] - ETA: 0s - loss: 0.1685 - accuracy: 0.9421\n",
      "Epoch 00038: val_loss did not improve from 1.62575\n",
      "1000/1000 [==============================] - 64s 64ms/step - loss: 0.1685 - accuracy: 0.9421 - val_loss: 0.3063 - val_accuracy: 0.9038 - lr: 1.0000e-06\n",
      "Epoch 39/50\n",
      "1000/1000 [==============================] - ETA: 0s - loss: 0.1712 - accuracy: 0.9401\n",
      "Epoch 00039: val_loss did not improve from 1.62575\n",
      "1000/1000 [==============================] - 64s 64ms/step - loss: 0.1712 - accuracy: 0.9401 - val_loss: 0.3062 - val_accuracy: 0.9040 - lr: 1.0000e-06\n",
      "Epoch 40/50\n",
      "1000/1000 [==============================] - ETA: 0s - loss: 0.1699 - accuracy: 0.9394\n",
      "Epoch 00040: val_loss did not improve from 1.62575\n",
      "1000/1000 [==============================] - 64s 64ms/step - loss: 0.1699 - accuracy: 0.9394 - val_loss: 0.3037 - val_accuracy: 0.9044 - lr: 1.0000e-06\n",
      "Epoch 41/50\n",
      "1000/1000 [==============================] - ETA: 0s - loss: 0.1711 - accuracy: 0.9397\n",
      "Epoch 00041: val_loss did not improve from 1.62575\n",
      "1000/1000 [==============================] - 64s 64ms/step - loss: 0.1711 - accuracy: 0.9397 - val_loss: 0.3053 - val_accuracy: 0.9035 - lr: 1.0000e-06\n",
      "Epoch 42/50\n",
      "1000/1000 [==============================] - ETA: 0s - loss: 0.1690 - accuracy: 0.9422\n",
      "Epoch 00042: val_loss did not improve from 1.62575\n",
      "1000/1000 [==============================] - 64s 64ms/step - loss: 0.1690 - accuracy: 0.9422 - val_loss: 0.3044 - val_accuracy: 0.9046 - lr: 1.0000e-06\n",
      "Epoch 43/50\n",
      "1000/1000 [==============================] - ETA: 0s - loss: 0.1702 - accuracy: 0.9402\n",
      "Epoch 00043: val_loss did not improve from 1.62575\n",
      "1000/1000 [==============================] - 64s 64ms/step - loss: 0.1702 - accuracy: 0.9402 - val_loss: 0.3027 - val_accuracy: 0.9044 - lr: 1.0000e-06\n",
      "Epoch 44/50\n",
      "1000/1000 [==============================] - ETA: 0s - loss: 0.1691 - accuracy: 0.9412\n",
      "Epoch 00044: val_loss did not improve from 1.62575\n",
      "1000/1000 [==============================] - 64s 64ms/step - loss: 0.1691 - accuracy: 0.9412 - val_loss: 0.3049 - val_accuracy: 0.9043 - lr: 1.0000e-06\n",
      "Epoch 45/50\n",
      "1000/1000 [==============================] - ETA: 0s - loss: 0.1702 - accuracy: 0.9414\n",
      "Epoch 00045: val_loss did not improve from 1.62575\n",
      "1000/1000 [==============================] - 64s 64ms/step - loss: 0.1702 - accuracy: 0.9414 - val_loss: 0.3049 - val_accuracy: 0.9047 - lr: 1.0000e-06\n",
      "Epoch 46/50\n",
      "1000/1000 [==============================] - ETA: 0s - loss: 0.1654 - accuracy: 0.9422\n",
      "Epoch 00046: val_loss did not improve from 1.62575\n",
      "1000/1000 [==============================] - 64s 64ms/step - loss: 0.1654 - accuracy: 0.9422 - val_loss: 0.3059 - val_accuracy: 0.9037 - lr: 1.0000e-06\n",
      "Epoch 47/50\n",
      "1000/1000 [==============================] - ETA: 0s - loss: 0.1699 - accuracy: 0.9403\n",
      "Epoch 00047: val_loss did not improve from 1.62575\n",
      "1000/1000 [==============================] - 64s 64ms/step - loss: 0.1699 - accuracy: 0.9403 - val_loss: 0.3062 - val_accuracy: 0.9037 - lr: 1.0000e-06\n",
      "Epoch 48/50\n",
      "1000/1000 [==============================] - ETA: 0s - loss: 0.1699 - accuracy: 0.9410\n",
      "Epoch 00048: val_loss did not improve from 1.62575\n",
      "1000/1000 [==============================] - 64s 64ms/step - loss: 0.1699 - accuracy: 0.9410 - val_loss: 0.3034 - val_accuracy: 0.9041 - lr: 1.0000e-06\n",
      "Epoch 49/50\n",
      "1000/1000 [==============================] - ETA: 0s - loss: 0.1716 - accuracy: 0.9400\n",
      "Epoch 00049: val_loss did not improve from 1.62575\n",
      "1000/1000 [==============================] - 63s 63ms/step - loss: 0.1716 - accuracy: 0.9400 - val_loss: 0.3054 - val_accuracy: 0.9037 - lr: 1.0000e-06\n",
      "Epoch 50/50\n",
      "1000/1000 [==============================] - ETA: 0s - loss: 0.1682 - accuracy: 0.9421\n",
      "Epoch 00050: val_loss did not improve from 1.62575\n",
      "1000/1000 [==============================] - 64s 64ms/step - loss: 0.1682 - accuracy: 0.9421 - val_loss: 0.3058 - val_accuracy: 0.9032 - lr: 1.0000e-06\n"
     ]
    }
   ],
   "source": [
    "history=model.fit_generator(data_gen.flow(X_train, y_train, batch_size=50),\n",
    "                    steps_per_epoch = (len(X_train) /50), epochs=50, validation_data=(X_test, y_test),callbacks=callbacks)"
   ]
  },
  {
   "cell_type": "markdown",
   "metadata": {
    "colab": {},
    "colab_type": "code",
    "id": "Mj3-mj3vpANo"
   },
   "source": [
    "## Observation \n"
   ]
  },
  {
   "cell_type": "markdown",
   "metadata": {},
   "source": [
    "1) Here i tried with variation of different values of number filters and conclusion was that the number of filters should be small."
   ]
  },
  {
   "cell_type": "markdown",
   "metadata": {},
   "source": [
    "2)I got accuracy as 94.21% and validation accuracy as 90.32 % after 50 epochs "
   ]
  },
  {
   "cell_type": "markdown",
   "metadata": {},
   "source": [
    "3) Reduce lr on plateau helped to reach the convergence in less number of epochs "
   ]
  },
  {
   "cell_type": "markdown",
   "metadata": {},
   "source": [
    "4) Data augmention helped to improve the results "
   ]
  },
  {
   "cell_type": "code",
   "execution_count": null,
   "metadata": {},
   "outputs": [],
   "source": []
  }
 ],
 "metadata": {
  "accelerator": "GPU",
  "colab": {
   "collapsed_sections": [],
   "name": "CNN_on_CIFR_Assignment().ipynb",
   "provenance": []
  },
  "kernelspec": {
   "display_name": "Python 3",
   "language": "python",
   "name": "python3"
  },
  "language_info": {
   "codemirror_mode": {
    "name": "ipython",
    "version": 3
   },
   "file_extension": ".py",
   "mimetype": "text/x-python",
   "name": "python",
   "nbconvert_exporter": "python",
   "pygments_lexer": "ipython3",
   "version": "3.7.7"
  }
 },
 "nbformat": 4,
 "nbformat_minor": 1
}
